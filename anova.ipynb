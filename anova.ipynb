{
 "cells": [
  {
   "cell_type": "code",
   "execution_count": 2,
   "metadata": {},
   "outputs": [],
   "source": [
    "import pandas as pd\n",
    "import json\n",
    "import csv\n",
    "import statsmodels.api as sm\n",
    "from statsmodels.formula.api import ols"
   ]
  },
  {
   "cell_type": "code",
   "execution_count": 29,
   "metadata": {
    "scrolled": true
   },
   "outputs": [
    {
     "data": {
      "text/html": [
       "<div>\n",
       "<style scoped>\n",
       "    .dataframe tbody tr th:only-of-type {\n",
       "        vertical-align: middle;\n",
       "    }\n",
       "\n",
       "    .dataframe tbody tr th {\n",
       "        vertical-align: top;\n",
       "    }\n",
       "\n",
       "    .dataframe thead th {\n",
       "        text-align: right;\n",
       "    }\n",
       "</style>\n",
       "<table border=\"1\" class=\"dataframe\">\n",
       "  <thead>\n",
       "    <tr style=\"text-align: right;\">\n",
       "      <th></th>\n",
       "      <th>ID</th>\n",
       "      <th>route</th>\n",
       "      <th>condition</th>\n",
       "      <th>order</th>\n",
       "      <th>distanceMoved</th>\n",
       "      <th>taskTime</th>\n",
       "      <th>pickUpNumber</th>\n",
       "      <th>phoneActiveTime</th>\n",
       "      <th>angleDiff</th>\n",
       "      <th>distanceDiff</th>\n",
       "      <th>familiarity</th>\n",
       "      <th>sbsod</th>\n",
       "      <th>difficulty</th>\n",
       "    </tr>\n",
       "  </thead>\n",
       "  <tbody>\n",
       "    <tr>\n",
       "      <th>0</th>\n",
       "      <td>1</td>\n",
       "      <td>3</td>\n",
       "      <td>A</td>\n",
       "      <td>1</td>\n",
       "      <td>619</td>\n",
       "      <td>86</td>\n",
       "      <td>4</td>\n",
       "      <td>2.070549</td>\n",
       "      <td>34.041603</td>\n",
       "      <td>6.760628</td>\n",
       "      <td>high</td>\n",
       "      <td>medium</td>\n",
       "      <td>4</td>\n",
       "    </tr>\n",
       "    <tr>\n",
       "      <th>1</th>\n",
       "      <td>1</td>\n",
       "      <td>4</td>\n",
       "      <td>B</td>\n",
       "      <td>2</td>\n",
       "      <td>504</td>\n",
       "      <td>77</td>\n",
       "      <td>1</td>\n",
       "      <td>0.537441</td>\n",
       "      <td>28.603960</td>\n",
       "      <td>115.272285</td>\n",
       "      <td>high</td>\n",
       "      <td>medium</td>\n",
       "      <td>2</td>\n",
       "    </tr>\n",
       "    <tr>\n",
       "      <th>2</th>\n",
       "      <td>1</td>\n",
       "      <td>1</td>\n",
       "      <td>C</td>\n",
       "      <td>3</td>\n",
       "      <td>527</td>\n",
       "      <td>80</td>\n",
       "      <td>0</td>\n",
       "      <td>0.000000</td>\n",
       "      <td>16.023685</td>\n",
       "      <td>8.007645</td>\n",
       "      <td>high</td>\n",
       "      <td>medium</td>\n",
       "      <td>1</td>\n",
       "    </tr>\n",
       "    <tr>\n",
       "      <th>3</th>\n",
       "      <td>1</td>\n",
       "      <td>2</td>\n",
       "      <td>D</td>\n",
       "      <td>4</td>\n",
       "      <td>469</td>\n",
       "      <td>65</td>\n",
       "      <td>1</td>\n",
       "      <td>1.002162</td>\n",
       "      <td>23.328030</td>\n",
       "      <td>75.174484</td>\n",
       "      <td>high</td>\n",
       "      <td>medium</td>\n",
       "      <td>1</td>\n",
       "    </tr>\n",
       "    <tr>\n",
       "      <th>4</th>\n",
       "      <td>2</td>\n",
       "      <td>3</td>\n",
       "      <td>A</td>\n",
       "      <td>1</td>\n",
       "      <td>673</td>\n",
       "      <td>124</td>\n",
       "      <td>6</td>\n",
       "      <td>13.136471</td>\n",
       "      <td>31.627031</td>\n",
       "      <td>114.109459</td>\n",
       "      <td>medium</td>\n",
       "      <td>low</td>\n",
       "      <td>4</td>\n",
       "    </tr>\n",
       "    <tr>\n",
       "      <th>...</th>\n",
       "      <td>...</td>\n",
       "      <td>...</td>\n",
       "      <td>...</td>\n",
       "      <td>...</td>\n",
       "      <td>...</td>\n",
       "      <td>...</td>\n",
       "      <td>...</td>\n",
       "      <td>...</td>\n",
       "      <td>...</td>\n",
       "      <td>...</td>\n",
       "      <td>...</td>\n",
       "      <td>...</td>\n",
       "      <td>...</td>\n",
       "    </tr>\n",
       "    <tr>\n",
       "      <th>99</th>\n",
       "      <td>23</td>\n",
       "      <td>4</td>\n",
       "      <td>B</td>\n",
       "      <td>4</td>\n",
       "      <td>587</td>\n",
       "      <td>100</td>\n",
       "      <td>5</td>\n",
       "      <td>10.538768</td>\n",
       "      <td>7.778267</td>\n",
       "      <td>140.507294</td>\n",
       "      <td>high</td>\n",
       "      <td>high</td>\n",
       "      <td>3</td>\n",
       "    </tr>\n",
       "    <tr>\n",
       "      <th>100</th>\n",
       "      <td>24</td>\n",
       "      <td>4</td>\n",
       "      <td>D</td>\n",
       "      <td>1</td>\n",
       "      <td>594</td>\n",
       "      <td>80</td>\n",
       "      <td>0</td>\n",
       "      <td>0.000000</td>\n",
       "      <td>2.601658</td>\n",
       "      <td>56.171482</td>\n",
       "      <td>medium</td>\n",
       "      <td>medium</td>\n",
       "      <td>1</td>\n",
       "    </tr>\n",
       "    <tr>\n",
       "      <th>101</th>\n",
       "      <td>24</td>\n",
       "      <td>2</td>\n",
       "      <td>C</td>\n",
       "      <td>2</td>\n",
       "      <td>706</td>\n",
       "      <td>98</td>\n",
       "      <td>4</td>\n",
       "      <td>5.732841</td>\n",
       "      <td>11.675330</td>\n",
       "      <td>50.288662</td>\n",
       "      <td>medium</td>\n",
       "      <td>medium</td>\n",
       "      <td>3</td>\n",
       "    </tr>\n",
       "    <tr>\n",
       "      <th>102</th>\n",
       "      <td>24</td>\n",
       "      <td>3</td>\n",
       "      <td>B</td>\n",
       "      <td>3</td>\n",
       "      <td>595</td>\n",
       "      <td>79</td>\n",
       "      <td>0</td>\n",
       "      <td>0.000000</td>\n",
       "      <td>85.396706</td>\n",
       "      <td>212.339416</td>\n",
       "      <td>medium</td>\n",
       "      <td>medium</td>\n",
       "      <td>1</td>\n",
       "    </tr>\n",
       "    <tr>\n",
       "      <th>103</th>\n",
       "      <td>24</td>\n",
       "      <td>1</td>\n",
       "      <td>A</td>\n",
       "      <td>4</td>\n",
       "      <td>663</td>\n",
       "      <td>96</td>\n",
       "      <td>7</td>\n",
       "      <td>10.155352</td>\n",
       "      <td>22.944687</td>\n",
       "      <td>63.805943</td>\n",
       "      <td>medium</td>\n",
       "      <td>medium</td>\n",
       "      <td>3</td>\n",
       "    </tr>\n",
       "  </tbody>\n",
       "</table>\n",
       "<p>104 rows × 13 columns</p>\n",
       "</div>"
      ],
      "text/plain": [
       "     ID  route condition  order  distanceMoved  taskTime  pickUpNumber  \\\n",
       "0     1      3         A      1            619        86             4   \n",
       "1     1      4         B      2            504        77             1   \n",
       "2     1      1         C      3            527        80             0   \n",
       "3     1      2         D      4            469        65             1   \n",
       "4     2      3         A      1            673       124             6   \n",
       "..   ..    ...       ...    ...            ...       ...           ...   \n",
       "99   23      4         B      4            587       100             5   \n",
       "100  24      4         D      1            594        80             0   \n",
       "101  24      2         C      2            706        98             4   \n",
       "102  24      3         B      3            595        79             0   \n",
       "103  24      1         A      4            663        96             7   \n",
       "\n",
       "     phoneActiveTime  angleDiff  distanceDiff familiarity   sbsod  difficulty  \n",
       "0           2.070549  34.041603      6.760628        high  medium           4  \n",
       "1           0.537441  28.603960    115.272285        high  medium           2  \n",
       "2           0.000000  16.023685      8.007645        high  medium           1  \n",
       "3           1.002162  23.328030     75.174484        high  medium           1  \n",
       "4          13.136471  31.627031    114.109459      medium     low           4  \n",
       "..               ...        ...           ...         ...     ...         ...  \n",
       "99         10.538768   7.778267    140.507294        high    high           3  \n",
       "100         0.000000   2.601658     56.171482      medium  medium           1  \n",
       "101         5.732841  11.675330     50.288662      medium  medium           3  \n",
       "102         0.000000  85.396706    212.339416      medium  medium           1  \n",
       "103        10.155352  22.944687     63.805943      medium  medium           3  \n",
       "\n",
       "[104 rows x 13 columns]"
      ]
     },
     "execution_count": 29,
     "metadata": {},
     "output_type": "execute_result"
    }
   ],
   "source": [
    "df = pd.read_csv('testing_record.csv') \n",
    "df"
   ]
  },
  {
   "cell_type": "code",
   "execution_count": 19,
   "metadata": {},
   "outputs": [],
   "source": [
    "low = df[df['sbsod'] != 'high']\n",
    "high = low = df[df['sbsod'] == 'high']"
   ]
  },
  {
   "cell_type": "markdown",
   "metadata": {},
   "source": [
    "## All"
   ]
  },
  {
   "cell_type": "code",
   "execution_count": 36,
   "metadata": {
    "scrolled": true
   },
   "outputs": [
    {
     "name": "stdout",
     "output_type": "stream",
     "text": [
      "                df      sum_sq   mean_sq         F    PR(>F)\n",
      "C(route)       3.0    7.769231  2.589744  1.746704  0.162790\n",
      "C(condition)   3.0   14.520469  4.840156  3.264540  0.024809\n",
      "C(order)       3.0    8.956970  2.985657  2.013735  0.117297\n",
      "Residual      94.0  139.368715  1.482646       NaN       NaN\n"
     ]
    },
    {
     "data": {
      "text/html": [
       "<table class=\"simpletable\">\n",
       "<caption>OLS Regression Results</caption>\n",
       "<tr>\n",
       "  <th>Dep. Variable:</th>       <td>difficulty</td>    <th>  R-squared:         </th> <td>   0.183</td>\n",
       "</tr>\n",
       "<tr>\n",
       "  <th>Model:</th>                   <td>OLS</td>       <th>  Adj. R-squared:    </th> <td>   0.105</td>\n",
       "</tr>\n",
       "<tr>\n",
       "  <th>Method:</th>             <td>Least Squares</td>  <th>  F-statistic:       </th> <td>   2.342</td>\n",
       "</tr>\n",
       "<tr>\n",
       "  <th>Date:</th>             <td>Fri, 29 May 2020</td> <th>  Prob (F-statistic):</th>  <td>0.0198</td> \n",
       "</tr>\n",
       "<tr>\n",
       "  <th>Time:</th>                 <td>14:09:45</td>     <th>  Log-Likelihood:    </th> <td> -162.79</td>\n",
       "</tr>\n",
       "<tr>\n",
       "  <th>No. Observations:</th>      <td>   104</td>      <th>  AIC:               </th> <td>   345.6</td>\n",
       "</tr>\n",
       "<tr>\n",
       "  <th>Df Residuals:</th>          <td>    94</td>      <th>  BIC:               </th> <td>   372.0</td>\n",
       "</tr>\n",
       "<tr>\n",
       "  <th>Df Model:</th>              <td>     9</td>      <th>                     </th>     <td> </td>   \n",
       "</tr>\n",
       "<tr>\n",
       "  <th>Covariance Type:</th>      <td>nonrobust</td>    <th>                     </th>     <td> </td>   \n",
       "</tr>\n",
       "</table>\n",
       "<table class=\"simpletable\">\n",
       "<tr>\n",
       "          <td></td>             <th>coef</th>     <th>std err</th>      <th>t</th>      <th>P>|t|</th>  <th>[0.025</th>    <th>0.975]</th>  \n",
       "</tr>\n",
       "<tr>\n",
       "  <th>Intercept</th>         <td>    3.7107</td> <td>    0.366</td> <td>   10.151</td> <td> 0.000</td> <td>    2.985</td> <td>    4.436</td>\n",
       "</tr>\n",
       "<tr>\n",
       "  <th>C(route)[T.2]</th>     <td>   -0.2311</td> <td>    0.347</td> <td>   -0.667</td> <td> 0.507</td> <td>   -0.919</td> <td>    0.457</td>\n",
       "</tr>\n",
       "<tr>\n",
       "  <th>C(route)[T.3]</th>     <td>   -0.7395</td> <td>    0.341</td> <td>   -2.171</td> <td> 0.032</td> <td>   -1.416</td> <td>   -0.063</td>\n",
       "</tr>\n",
       "<tr>\n",
       "  <th>C(route)[T.4]</th>     <td>   -0.1353</td> <td>    0.344</td> <td>   -0.394</td> <td> 0.695</td> <td>   -0.818</td> <td>    0.547</td>\n",
       "</tr>\n",
       "<tr>\n",
       "  <th>C(condition)[T.B]</th> <td>    0.2519</td> <td>    0.339</td> <td>    0.742</td> <td> 0.460</td> <td>   -0.422</td> <td>    0.926</td>\n",
       "</tr>\n",
       "<tr>\n",
       "  <th>C(condition)[T.C]</th> <td>    0.0578</td> <td>    0.340</td> <td>    0.170</td> <td> 0.865</td> <td>   -0.618</td> <td>    0.734</td>\n",
       "</tr>\n",
       "<tr>\n",
       "  <th>C(condition)[T.D]</th> <td>   -0.7813</td> <td>    0.346</td> <td>   -2.256</td> <td> 0.026</td> <td>   -1.469</td> <td>   -0.094</td>\n",
       "</tr>\n",
       "<tr>\n",
       "  <th>C(order)[T.2]</th>     <td>   -0.3689</td> <td>    0.339</td> <td>   -1.089</td> <td> 0.279</td> <td>   -1.041</td> <td>    0.304</td>\n",
       "</tr>\n",
       "<tr>\n",
       "  <th>C(order)[T.3]</th>     <td>   -0.5482</td> <td>    0.338</td> <td>   -1.622</td> <td> 0.108</td> <td>   -1.219</td> <td>    0.123</td>\n",
       "</tr>\n",
       "<tr>\n",
       "  <th>C(order)[T.4]</th>     <td>   -0.8097</td> <td>    0.339</td> <td>   -2.388</td> <td> 0.019</td> <td>   -1.483</td> <td>   -0.137</td>\n",
       "</tr>\n",
       "</table>\n",
       "<table class=\"simpletable\">\n",
       "<tr>\n",
       "  <th>Omnibus:</th>       <td> 6.778</td> <th>  Durbin-Watson:     </th> <td>   1.565</td>\n",
       "</tr>\n",
       "<tr>\n",
       "  <th>Prob(Omnibus):</th> <td> 0.034</td> <th>  Jarque-Bera (JB):  </th> <td>   2.938</td>\n",
       "</tr>\n",
       "<tr>\n",
       "  <th>Skew:</th>          <td> 0.029</td> <th>  Prob(JB):          </th> <td>   0.230</td>\n",
       "</tr>\n",
       "<tr>\n",
       "  <th>Kurtosis:</th>      <td> 2.179</td> <th>  Cond. No.          </th> <td>    6.13</td>\n",
       "</tr>\n",
       "</table><br/><br/>Warnings:<br/>[1] Standard Errors assume that the covariance matrix of the errors is correctly specified."
      ],
      "text/plain": [
       "<class 'statsmodels.iolib.summary.Summary'>\n",
       "\"\"\"\n",
       "                            OLS Regression Results                            \n",
       "==============================================================================\n",
       "Dep. Variable:             difficulty   R-squared:                       0.183\n",
       "Model:                            OLS   Adj. R-squared:                  0.105\n",
       "Method:                 Least Squares   F-statistic:                     2.342\n",
       "Date:                Fri, 29 May 2020   Prob (F-statistic):             0.0198\n",
       "Time:                        14:09:45   Log-Likelihood:                -162.79\n",
       "No. Observations:                 104   AIC:                             345.6\n",
       "Df Residuals:                      94   BIC:                             372.0\n",
       "Df Model:                           9                                         \n",
       "Covariance Type:            nonrobust                                         \n",
       "=====================================================================================\n",
       "                        coef    std err          t      P>|t|      [0.025      0.975]\n",
       "-------------------------------------------------------------------------------------\n",
       "Intercept             3.7107      0.366     10.151      0.000       2.985       4.436\n",
       "C(route)[T.2]        -0.2311      0.347     -0.667      0.507      -0.919       0.457\n",
       "C(route)[T.3]        -0.7395      0.341     -2.171      0.032      -1.416      -0.063\n",
       "C(route)[T.4]        -0.1353      0.344     -0.394      0.695      -0.818       0.547\n",
       "C(condition)[T.B]     0.2519      0.339      0.742      0.460      -0.422       0.926\n",
       "C(condition)[T.C]     0.0578      0.340      0.170      0.865      -0.618       0.734\n",
       "C(condition)[T.D]    -0.7813      0.346     -2.256      0.026      -1.469      -0.094\n",
       "C(order)[T.2]        -0.3689      0.339     -1.089      0.279      -1.041       0.304\n",
       "C(order)[T.3]        -0.5482      0.338     -1.622      0.108      -1.219       0.123\n",
       "C(order)[T.4]        -0.8097      0.339     -2.388      0.019      -1.483      -0.137\n",
       "==============================================================================\n",
       "Omnibus:                        6.778   Durbin-Watson:                   1.565\n",
       "Prob(Omnibus):                  0.034   Jarque-Bera (JB):                2.938\n",
       "Skew:                           0.029   Prob(JB):                        0.230\n",
       "Kurtosis:                       2.179   Cond. No.                         6.13\n",
       "==============================================================================\n",
       "\n",
       "Warnings:\n",
       "[1] Standard Errors assume that the covariance matrix of the errors is correctly specified.\n",
       "\"\"\""
      ]
     },
     "execution_count": 36,
     "metadata": {},
     "output_type": "execute_result"
    }
   ],
   "source": [
    "lm = ols('difficulty ~ C(route)+C(condition)+C(order)',data=df).fit()\n",
    "table = sm.stats.anova_lm(lm)\n",
    "print(table)\n",
    "lm.summary()"
   ]
  },
  {
   "cell_type": "code",
   "execution_count": 31,
   "metadata": {
    "scrolled": true
   },
   "outputs": [
    {
     "name": "stdout",
     "output_type": "stream",
     "text": [
      "                df        sum_sq       mean_sq         F    PR(>F)\n",
      "C(route)       3.0  4.616412e+04  15388.038830  0.966096  0.412173\n",
      "C(condition)   3.0  1.800961e+05  60032.040609  3.768949  0.013262\n",
      "C(order)       3.0  2.958121e+04   9860.403431  0.619059  0.604375\n",
      "Residual      94.0  1.497238e+06  15928.059049       NaN       NaN\n"
     ]
    }
   ],
   "source": [
    "lm = ols('distanceDiff~ C(route)+C(condition)+C(order)',data=df).fit()\n",
    "table = sm.stats.anova_lm(lm)\n",
    "print(table)"
   ]
  },
  {
   "cell_type": "code",
   "execution_count": 37,
   "metadata": {
    "scrolled": true
   },
   "outputs": [
    {
     "name": "stdout",
     "output_type": "stream",
     "text": [
      "                df        sum_sq        mean_sq         F    PR(>F)\n",
      "C(route)       3.0  3.688023e+04   12293.410256  0.207441  0.891019\n",
      "C(condition)   3.0  3.625629e+05  120854.283664  2.039319  0.113656\n",
      "C(order)       3.0  1.438567e+05   47952.249590  0.809156  0.491903\n",
      "Residual      94.0  5.570636e+06   59262.081999       NaN       NaN\n"
     ]
    }
   ],
   "source": [
    "lm = ols('distanceMoved ~ C(route)+C(condition)+C(order)',data=df).fit()\n",
    "table = sm.stats.anova_lm(lm)\n",
    "print(table)"
   ]
  },
  {
   "cell_type": "code",
   "execution_count": 33,
   "metadata": {},
   "outputs": [
    {
     "name": "stdout",
     "output_type": "stream",
     "text": [
      "                df        sum_sq      mean_sq         F    PR(>F)\n",
      "C(route)       3.0   4802.693013  1600.897671  3.542966  0.017552\n",
      "C(condition)   3.0   1791.031421   597.010474  1.321251  0.272136\n",
      "C(order)       3.0   3896.382473  1298.794158  2.874377  0.040318\n",
      "Residual      94.0  42474.124380   451.852387       NaN       NaN\n"
     ]
    }
   ],
   "source": [
    "lm = ols('angleDiff ~ C(route)+C(condition)+C(order)',data=df).fit()\n",
    "table = sm.stats.anova_lm(lm)\n",
    "print(table)"
   ]
  },
  {
   "cell_type": "code",
   "execution_count": 34,
   "metadata": {},
   "outputs": [
    {
     "name": "stdout",
     "output_type": "stream",
     "text": [
      "                df         sum_sq      mean_sq         F    PR(>F)\n",
      "C(route)       3.0    2345.653846   781.884615  0.343480  0.793931\n",
      "C(condition)   3.0   14742.314006  4914.104669  2.158756  0.098069\n",
      "C(order)       3.0    9326.358455  3108.786152  1.365683  0.258089\n",
      "Residual      94.0  213977.789077  2276.359458       NaN       NaN\n"
     ]
    }
   ],
   "source": [
    "lm = ols('taskTime ~ C(route)+C(condition)+C(order)',data=df).fit()\n",
    "table = sm.stats.anova_lm(lm)\n",
    "print(table)\n"
   ]
  },
  {
   "cell_type": "code",
   "execution_count": 35,
   "metadata": {
    "scrolled": true
   },
   "outputs": [
    {
     "name": "stdout",
     "output_type": "stream",
     "text": [
      "                df      sum_sq    mean_sq         F    PR(>F)\n",
      "C(route)       3.0   20.192308   6.730769  0.847304  0.471435\n",
      "C(condition)   3.0   54.298489  18.099496  2.278459  0.084562\n",
      "C(order)       3.0   83.681838  27.893946  3.511435  0.018253\n",
      "Residual      94.0  746.711981   7.943744       NaN       NaN\n"
     ]
    }
   ],
   "source": [
    "lm = ols('pickUpNumber ~ C(route)+C(condition)+C(order)',data=df).fit()\n",
    "table = sm.stats.anova_lm(lm)\n",
    "print(table)\n"
   ]
  },
  {
   "cell_type": "code",
   "execution_count": 26,
   "metadata": {
    "scrolled": true
   },
   "outputs": [
    {
     "name": "stdout",
     "output_type": "stream",
     "text": [
      "                df       sum_sq     mean_sq         F    PR(>F)\n",
      "C(route)       3.0   414.195707  138.065236  2.332965  0.079112\n",
      "C(condition)   3.0   475.289165  158.429722  2.677075  0.051606\n",
      "C(order)       3.0   670.124040  223.374680  3.774486  0.013206\n",
      "Residual      93.0  5503.755180   59.180163       NaN       NaN\n"
     ]
    }
   ],
   "source": [
    "lm = ols('phoneActiveTime ~ C(route)+C(condition)+C(order)',data=df).fit()\n",
    "table = sm.stats.anova_lm(lm)\n",
    "print(table)\n",
    "\n"
   ]
  },
  {
   "cell_type": "markdown",
   "metadata": {},
   "source": [
    "## Low"
   ]
  },
  {
   "cell_type": "code",
   "execution_count": 25,
   "metadata": {
    "scrolled": false
   },
   "outputs": [
    {
     "name": "stdout",
     "output_type": "stream",
     "text": [
      "                df         sum_sq       mean_sq         F    PR(>F)\n",
      "C(route)       3.0   73302.213512  24434.071171  0.868334  0.472342\n",
      "C(condition)   3.0   17153.146859   5717.715620  0.203195  0.893065\n",
      "C(order)       3.0   13938.637040   4646.212347  0.165116  0.918724\n",
      "Residual      22.0  619058.678879  28139.030858       NaN       NaN\n"
     ]
    }
   ],
   "source": [
    "lm = ols('distanceDiff~ C(route)+C(condition)+C(order)',data=low).fit()\n",
    "table = sm.stats.anova_lm(lm)\n",
    "print(table)"
   ]
  },
  {
   "cell_type": "code",
   "execution_count": 26,
   "metadata": {
    "scrolled": true
   },
   "outputs": [
    {
     "name": "stdout",
     "output_type": "stream",
     "text": [
      "                df         sum_sq       mean_sq         F    PR(>F)\n",
      "C(route)       3.0  152145.343750  50715.114583  3.454162  0.033950\n",
      "C(condition)   3.0   52797.559049  17599.186350  1.198665  0.333428\n",
      "C(order)       3.0  135599.249477  45199.749826  3.078515  0.048597\n",
      "Residual      22.0  323011.066474  14682.321203       NaN       NaN\n"
     ]
    }
   ],
   "source": [
    "lm = ols('distanceMoved ~ C(route)+C(condition)+C(order)',data=low).fit()\n",
    "table = sm.stats.anova_lm(lm)\n",
    "print(table)"
   ]
  },
  {
   "cell_type": "code",
   "execution_count": 27,
   "metadata": {},
   "outputs": [
    {
     "name": "stdout",
     "output_type": "stream",
     "text": [
      "                df        sum_sq      mean_sq         F    PR(>F)\n",
      "C(route)       3.0   6186.626086  2062.208695  2.432177  0.092118\n",
      "C(condition)   3.0   1134.913836   378.304612  0.446174  0.722443\n",
      "C(order)       3.0   2505.088013   835.029338  0.984837  0.418024\n",
      "Residual      22.0  18653.492640   847.886029       NaN       NaN\n"
     ]
    }
   ],
   "source": [
    "lm = ols('angleDiff ~ C(route)+C(condition)+C(order)',data=low).fit()\n",
    "table = sm.stats.anova_lm(lm)\n",
    "print(table)"
   ]
  },
  {
   "cell_type": "code",
   "execution_count": 28,
   "metadata": {},
   "outputs": [
    {
     "name": "stdout",
     "output_type": "stream",
     "text": [
      "                df        sum_sq      mean_sq         F    PR(>F)\n",
      "C(route)       3.0   2711.343750   903.781250  1.273052  0.308132\n",
      "C(condition)   3.0   1220.295794   406.765265  0.572963  0.638775\n",
      "C(order)       3.0   6860.059744  2286.686581  3.220991  0.042368\n",
      "Residual      22.0  15618.519462   709.932703       NaN       NaN\n"
     ]
    }
   ],
   "source": [
    "lm = ols('taskTime ~ C(route)+C(condition)+C(order)',data=low).fit()\n",
    "table = sm.stats.anova_lm(lm)\n",
    "print(table)\n"
   ]
  },
  {
   "cell_type": "code",
   "execution_count": 29,
   "metadata": {
    "scrolled": true
   },
   "outputs": [
    {
     "name": "stdout",
     "output_type": "stream",
     "text": [
      "                df      sum_sq    mean_sq         F    PR(>F)\n",
      "C(route)       3.0    3.343750   1.114583  0.083163  0.968503\n",
      "C(condition)   3.0   14.163051   4.721017  0.352250  0.787926\n",
      "C(order)       3.0   31.857641  10.619214  0.792333  0.511170\n",
      "Residual      22.0  294.854308  13.402469       NaN       NaN\n"
     ]
    }
   ],
   "source": [
    "lm = ols('pickUpNumber ~ C(route)+C(condition)+C(order)',data=low).fit()\n",
    "table = sm.stats.anova_lm(lm)\n",
    "print(table)\n"
   ]
  },
  {
   "cell_type": "code",
   "execution_count": 30,
   "metadata": {
    "scrolled": true
   },
   "outputs": [
    {
     "name": "stdout",
     "output_type": "stream",
     "text": [
      "                df       sum_sq    mean_sq         F    PR(>F)\n",
      "C(route)       3.0    99.768495  33.256165  0.399582  0.754648\n",
      "C(condition)   3.0    38.702887  12.900962  0.155009  0.925339\n",
      "C(order)       3.0   231.785184  77.261728  0.928321  0.443605\n",
      "Residual      22.0  1831.002077  83.227367       NaN       NaN\n"
     ]
    }
   ],
   "source": [
    "lm = ols('phoneActiveTime ~ C(route)+C(condition)+C(order)',data=low).fit()\n",
    "table = sm.stats.anova_lm(lm)\n",
    "print(table)\n",
    "\n"
   ]
  },
  {
   "cell_type": "markdown",
   "metadata": {},
   "source": [
    "## High"
   ]
  },
  {
   "cell_type": "code",
   "execution_count": 31,
   "metadata": {
    "scrolled": false
   },
   "outputs": [
    {
     "name": "stdout",
     "output_type": "stream",
     "text": [
      "                df         sum_sq       mean_sq         F    PR(>F)\n",
      "C(route)       3.0   73302.213512  24434.071171  0.868334  0.472342\n",
      "C(condition)   3.0   17153.146859   5717.715620  0.203195  0.893065\n",
      "C(order)       3.0   13938.637040   4646.212347  0.165116  0.918724\n",
      "Residual      22.0  619058.678879  28139.030858       NaN       NaN\n"
     ]
    }
   ],
   "source": [
    "lm = ols('distanceDiff~ C(route)+C(condition)+C(order)',data=high).fit()\n",
    "table = sm.stats.anova_lm(lm)\n",
    "print(table)"
   ]
  },
  {
   "cell_type": "code",
   "execution_count": 21,
   "metadata": {
    "scrolled": true
   },
   "outputs": [
    {
     "name": "stdout",
     "output_type": "stream",
     "text": [
      "                df         sum_sq       mean_sq         F    PR(>F)\n",
      "C(route)       3.0  162961.285714  54320.428571  3.405730  0.040140\n",
      "C(condition)   3.0   69006.571429  23002.190476  1.442169  0.263567\n",
      "C(order)       3.0  127455.997355  42485.332452  2.663705  0.079011\n",
      "Residual      18.0  287094.859788  15949.714433       NaN       NaN\n"
     ]
    }
   ],
   "source": [
    "lm = ols('distanceMoved ~ C(route)+C(condition)+C(order)',data=high).fit()\n",
    "table = sm.stats.anova_lm(lm)\n",
    "print(table)"
   ]
  },
  {
   "cell_type": "code",
   "execution_count": 22,
   "metadata": {},
   "outputs": [
    {
     "name": "stdout",
     "output_type": "stream",
     "text": [
      "                df        sum_sq      mean_sq         F    PR(>F)\n",
      "C(route)       3.0   5960.273333  1986.757778  2.066828  0.140502\n",
      "C(condition)   3.0   1392.739368   464.246456  0.482956  0.698262\n",
      "C(order)       3.0   2765.906324   921.968775  0.959126  0.433328\n",
      "Residual      18.0  17302.670503   961.259472       NaN       NaN\n"
     ]
    }
   ],
   "source": [
    "lm = ols('angleDiff ~ C(route)+C(condition)+C(order)',data=high).fit()\n",
    "table = sm.stats.anova_lm(lm)\n",
    "print(table)"
   ]
  },
  {
   "cell_type": "code",
   "execution_count": 23,
   "metadata": {},
   "outputs": [
    {
     "name": "stdout",
     "output_type": "stream",
     "text": [
      "                df        sum_sq      mean_sq         F    PR(>F)\n",
      "C(route)       3.0   3077.857143  1025.952381  1.322405  0.298043\n",
      "C(condition)   3.0   2170.982540   723.660847  0.932765  0.445222\n",
      "C(order)       3.0   5369.060427  1789.686809  2.306824  0.111109\n",
      "Residual      18.0  13964.814176   775.823010       NaN       NaN\n"
     ]
    }
   ],
   "source": [
    "lm = ols('taskTime ~ C(route)+C(condition)+C(order)',data=high).fit()\n",
    "table = sm.stats.anova_lm(lm)\n",
    "print(table)\n"
   ]
  },
  {
   "cell_type": "code",
   "execution_count": 24,
   "metadata": {
    "scrolled": true
   },
   "outputs": [
    {
     "name": "stdout",
     "output_type": "stream",
     "text": [
      "                df      sum_sq    mean_sq         F    PR(>F)\n",
      "C(route)       3.0    3.571429   1.190476  0.073729  0.973320\n",
      "C(condition)   3.0   22.901587   7.633862  0.472782  0.705050\n",
      "C(order)       3.0   21.600748   7.200249  0.445927  0.723152\n",
      "Residual      18.0  290.640522  16.146696       NaN       NaN\n"
     ]
    }
   ],
   "source": [
    "lm = ols('pickUpNumber ~ C(route)+C(condition)+C(order)',data=high).fit()\n",
    "table = sm.stats.anova_lm(lm)\n",
    "print(table)\n"
   ]
  },
  {
   "cell_type": "code",
   "execution_count": 44,
   "metadata": {
    "scrolled": true
   },
   "outputs": [
    {
     "name": "stdout",
     "output_type": "stream",
     "text": [
      "                df       sum_sq    mean_sq         F    PR(>F)\n",
      "C(route)       3.0    99.768495  33.256165  0.399582  0.754648\n",
      "C(condition)   3.0    38.702887  12.900962  0.155009  0.925339\n",
      "C(order)       3.0   231.785184  77.261728  0.928321  0.443605\n",
      "Residual      22.0  1831.002077  83.227367       NaN       NaN\n"
     ]
    }
   ],
   "source": [
    "lm = ols('phoneActiveTime ~ C(route)+C(condition)+C(order)',data=high).fit()\n",
    "table = sm.stats.anova_lm(lm)\n",
    "print(table)\n",
    "\n"
   ]
  }
 ],
 "metadata": {
  "kernelspec": {
   "display_name": "Python 3",
   "language": "python",
   "name": "python3"
  },
  "language_info": {
   "codemirror_mode": {
    "name": "ipython",
    "version": 3
   },
   "file_extension": ".py",
   "mimetype": "text/x-python",
   "name": "python",
   "nbconvert_exporter": "python",
   "pygments_lexer": "ipython3",
   "version": "3.6.8"
  }
 },
 "nbformat": 4,
 "nbformat_minor": 2
}
