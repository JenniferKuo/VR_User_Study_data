{
 "cells": [
  {
   "cell_type": "code",
   "execution_count": 2,
   "metadata": {},
   "outputs": [],
   "source": [
    "import pandas as pd\n",
    "import json\n",
    "import csv\n",
    "import statsmodels.api as sm\n",
    "from statsmodels.formula.api import ols"
   ]
  },
  {
   "cell_type": "code",
   "execution_count": 3,
   "metadata": {
    "scrolled": true
   },
   "outputs": [
    {
     "data": {
      "text/html": [
       "<div>\n",
       "<style scoped>\n",
       "    .dataframe tbody tr th:only-of-type {\n",
       "        vertical-align: middle;\n",
       "    }\n",
       "\n",
       "    .dataframe tbody tr th {\n",
       "        vertical-align: top;\n",
       "    }\n",
       "\n",
       "    .dataframe thead th {\n",
       "        text-align: right;\n",
       "    }\n",
       "</style>\n",
       "<table border=\"1\" class=\"dataframe\">\n",
       "  <thead>\n",
       "    <tr style=\"text-align: right;\">\n",
       "      <th></th>\n",
       "      <th>ID</th>\n",
       "      <th>route</th>\n",
       "      <th>condition</th>\n",
       "      <th>order</th>\n",
       "      <th>distanceMoved</th>\n",
       "      <th>taskTime</th>\n",
       "      <th>pickUpNumber</th>\n",
       "      <th>phoneActiveTime</th>\n",
       "      <th>angleDiff</th>\n",
       "      <th>distanceDiff</th>\n",
       "      <th>familiarity</th>\n",
       "      <th>sbsod</th>\n",
       "      <th>difficulty</th>\n",
       "    </tr>\n",
       "  </thead>\n",
       "  <tbody>\n",
       "    <tr>\n",
       "      <th>0</th>\n",
       "      <td>1</td>\n",
       "      <td>3</td>\n",
       "      <td>A</td>\n",
       "      <td>1</td>\n",
       "      <td>619</td>\n",
       "      <td>86</td>\n",
       "      <td>4</td>\n",
       "      <td>2.070549</td>\n",
       "      <td>34.041603</td>\n",
       "      <td>6.760628</td>\n",
       "      <td>high</td>\n",
       "      <td>medium</td>\n",
       "      <td>4</td>\n",
       "    </tr>\n",
       "    <tr>\n",
       "      <th>1</th>\n",
       "      <td>1</td>\n",
       "      <td>4</td>\n",
       "      <td>B</td>\n",
       "      <td>2</td>\n",
       "      <td>504</td>\n",
       "      <td>77</td>\n",
       "      <td>1</td>\n",
       "      <td>0.537441</td>\n",
       "      <td>28.603960</td>\n",
       "      <td>115.272285</td>\n",
       "      <td>high</td>\n",
       "      <td>medium</td>\n",
       "      <td>2</td>\n",
       "    </tr>\n",
       "    <tr>\n",
       "      <th>2</th>\n",
       "      <td>1</td>\n",
       "      <td>1</td>\n",
       "      <td>C</td>\n",
       "      <td>3</td>\n",
       "      <td>527</td>\n",
       "      <td>80</td>\n",
       "      <td>0</td>\n",
       "      <td>0.000000</td>\n",
       "      <td>16.023685</td>\n",
       "      <td>8.007645</td>\n",
       "      <td>high</td>\n",
       "      <td>medium</td>\n",
       "      <td>1</td>\n",
       "    </tr>\n",
       "    <tr>\n",
       "      <th>3</th>\n",
       "      <td>1</td>\n",
       "      <td>2</td>\n",
       "      <td>D</td>\n",
       "      <td>4</td>\n",
       "      <td>469</td>\n",
       "      <td>65</td>\n",
       "      <td>1</td>\n",
       "      <td>1.002162</td>\n",
       "      <td>23.328030</td>\n",
       "      <td>75.174484</td>\n",
       "      <td>high</td>\n",
       "      <td>medium</td>\n",
       "      <td>1</td>\n",
       "    </tr>\n",
       "    <tr>\n",
       "      <th>4</th>\n",
       "      <td>2</td>\n",
       "      <td>3</td>\n",
       "      <td>A</td>\n",
       "      <td>1</td>\n",
       "      <td>673</td>\n",
       "      <td>124</td>\n",
       "      <td>6</td>\n",
       "      <td>13.136471</td>\n",
       "      <td>31.627031</td>\n",
       "      <td>114.109459</td>\n",
       "      <td>medium</td>\n",
       "      <td>low</td>\n",
       "      <td>4</td>\n",
       "    </tr>\n",
       "    <tr>\n",
       "      <th>...</th>\n",
       "      <td>...</td>\n",
       "      <td>...</td>\n",
       "      <td>...</td>\n",
       "      <td>...</td>\n",
       "      <td>...</td>\n",
       "      <td>...</td>\n",
       "      <td>...</td>\n",
       "      <td>...</td>\n",
       "      <td>...</td>\n",
       "      <td>...</td>\n",
       "      <td>...</td>\n",
       "      <td>...</td>\n",
       "      <td>...</td>\n",
       "    </tr>\n",
       "    <tr>\n",
       "      <th>95</th>\n",
       "      <td>23</td>\n",
       "      <td>4</td>\n",
       "      <td>B</td>\n",
       "      <td>4</td>\n",
       "      <td>587</td>\n",
       "      <td>100</td>\n",
       "      <td>5</td>\n",
       "      <td>10.538768</td>\n",
       "      <td>7.778267</td>\n",
       "      <td>140.507294</td>\n",
       "      <td>high</td>\n",
       "      <td>high</td>\n",
       "      <td>3</td>\n",
       "    </tr>\n",
       "    <tr>\n",
       "      <th>96</th>\n",
       "      <td>24</td>\n",
       "      <td>4</td>\n",
       "      <td>D</td>\n",
       "      <td>1</td>\n",
       "      <td>594</td>\n",
       "      <td>80</td>\n",
       "      <td>0</td>\n",
       "      <td>0.000000</td>\n",
       "      <td>2.601658</td>\n",
       "      <td>56.171482</td>\n",
       "      <td>medium</td>\n",
       "      <td>medium</td>\n",
       "      <td>1</td>\n",
       "    </tr>\n",
       "    <tr>\n",
       "      <th>97</th>\n",
       "      <td>24</td>\n",
       "      <td>2</td>\n",
       "      <td>C</td>\n",
       "      <td>2</td>\n",
       "      <td>706</td>\n",
       "      <td>98</td>\n",
       "      <td>4</td>\n",
       "      <td>5.732841</td>\n",
       "      <td>11.675330</td>\n",
       "      <td>50.288662</td>\n",
       "      <td>medium</td>\n",
       "      <td>medium</td>\n",
       "      <td>3</td>\n",
       "    </tr>\n",
       "    <tr>\n",
       "      <th>98</th>\n",
       "      <td>24</td>\n",
       "      <td>3</td>\n",
       "      <td>B</td>\n",
       "      <td>3</td>\n",
       "      <td>595</td>\n",
       "      <td>79</td>\n",
       "      <td>0</td>\n",
       "      <td>0.000000</td>\n",
       "      <td>85.396706</td>\n",
       "      <td>212.339416</td>\n",
       "      <td>medium</td>\n",
       "      <td>medium</td>\n",
       "      <td>1</td>\n",
       "    </tr>\n",
       "    <tr>\n",
       "      <th>99</th>\n",
       "      <td>24</td>\n",
       "      <td>1</td>\n",
       "      <td>A</td>\n",
       "      <td>4</td>\n",
       "      <td>663</td>\n",
       "      <td>96</td>\n",
       "      <td>7</td>\n",
       "      <td>10.155352</td>\n",
       "      <td>22.944687</td>\n",
       "      <td>63.805943</td>\n",
       "      <td>medium</td>\n",
       "      <td>medium</td>\n",
       "      <td>3</td>\n",
       "    </tr>\n",
       "  </tbody>\n",
       "</table>\n",
       "<p>100 rows × 13 columns</p>\n",
       "</div>"
      ],
      "text/plain": [
       "    ID  route condition  order  distanceMoved  taskTime  pickUpNumber  \\\n",
       "0    1      3         A      1            619        86             4   \n",
       "1    1      4         B      2            504        77             1   \n",
       "2    1      1         C      3            527        80             0   \n",
       "3    1      2         D      4            469        65             1   \n",
       "4    2      3         A      1            673       124             6   \n",
       "..  ..    ...       ...    ...            ...       ...           ...   \n",
       "95  23      4         B      4            587       100             5   \n",
       "96  24      4         D      1            594        80             0   \n",
       "97  24      2         C      2            706        98             4   \n",
       "98  24      3         B      3            595        79             0   \n",
       "99  24      1         A      4            663        96             7   \n",
       "\n",
       "    phoneActiveTime  angleDiff  distanceDiff familiarity   sbsod  difficulty  \n",
       "0          2.070549  34.041603      6.760628        high  medium           4  \n",
       "1          0.537441  28.603960    115.272285        high  medium           2  \n",
       "2          0.000000  16.023685      8.007645        high  medium           1  \n",
       "3          1.002162  23.328030     75.174484        high  medium           1  \n",
       "4         13.136471  31.627031    114.109459      medium     low           4  \n",
       "..              ...        ...           ...         ...     ...         ...  \n",
       "95        10.538768   7.778267    140.507294        high    high           3  \n",
       "96         0.000000   2.601658     56.171482      medium  medium           1  \n",
       "97         5.732841  11.675330     50.288662      medium  medium           3  \n",
       "98         0.000000  85.396706    212.339416      medium  medium           1  \n",
       "99        10.155352  22.944687     63.805943      medium  medium           3  \n",
       "\n",
       "[100 rows x 13 columns]"
      ]
     },
     "execution_count": 3,
     "metadata": {},
     "output_type": "execute_result"
    }
   ],
   "source": [
    "df = pd.read_csv('testing_record.csv') \n",
    "df"
   ]
  },
  {
   "cell_type": "code",
   "execution_count": 4,
   "metadata": {},
   "outputs": [],
   "source": [
    "low = df[df['sbsod'] != 'high']\n",
    "high = low = df[df['sbsod'] == 'high']"
   ]
  },
  {
   "cell_type": "markdown",
   "metadata": {},
   "source": [
    "## All"
   ]
  },
  {
   "cell_type": "code",
   "execution_count": 7,
   "metadata": {
    "scrolled": true
   },
   "outputs": [
    {
     "name": "stdout",
     "output_type": "stream",
     "text": [
      "                df      sum_sq   mean_sq         F    PR(>F)\n",
      "C(route)       3.0    7.280000  2.426667  1.579890  0.199756\n",
      "C(condition)   3.0   13.515839  4.505280  2.933179  0.037715\n",
      "C(order)       3.0    9.526698  3.175566  2.067464  0.110112\n",
      "Residual      90.0  138.237463  1.535972       NaN       NaN\n"
     ]
    },
    {
     "data": {
      "text/html": [
       "<table class=\"simpletable\">\n",
       "<caption>OLS Regression Results</caption>\n",
       "<tr>\n",
       "  <th>Dep. Variable:</th>       <td>difficulty</td>    <th>  R-squared:         </th> <td>   0.180</td>\n",
       "</tr>\n",
       "<tr>\n",
       "  <th>Model:</th>                   <td>OLS</td>       <th>  Adj. R-squared:    </th> <td>   0.098</td>\n",
       "</tr>\n",
       "<tr>\n",
       "  <th>Method:</th>             <td>Least Squares</td>  <th>  F-statistic:       </th> <td>   2.194</td>\n",
       "</tr>\n",
       "<tr>\n",
       "  <th>Date:</th>             <td>Fri, 29 May 2020</td> <th>  Prob (F-statistic):</th>  <td>0.0296</td> \n",
       "</tr>\n",
       "<tr>\n",
       "  <th>Time:</th>                 <td>13:10:43</td>     <th>  Log-Likelihood:    </th> <td> -158.08</td>\n",
       "</tr>\n",
       "<tr>\n",
       "  <th>No. Observations:</th>      <td>   100</td>      <th>  AIC:               </th> <td>   336.2</td>\n",
       "</tr>\n",
       "<tr>\n",
       "  <th>Df Residuals:</th>          <td>    90</td>      <th>  BIC:               </th> <td>   362.2</td>\n",
       "</tr>\n",
       "<tr>\n",
       "  <th>Df Model:</th>              <td>     9</td>      <th>                     </th>     <td> </td>   \n",
       "</tr>\n",
       "<tr>\n",
       "  <th>Covariance Type:</th>      <td>nonrobust</td>    <th>                     </th>     <td> </td>   \n",
       "</tr>\n",
       "</table>\n",
       "<table class=\"simpletable\">\n",
       "<tr>\n",
       "          <td></td>             <th>coef</th>     <th>std err</th>      <th>t</th>      <th>P>|t|</th>  <th>[0.025</th>    <th>0.975]</th>  \n",
       "</tr>\n",
       "<tr>\n",
       "  <th>Intercept</th>         <td>    3.7136</td> <td>    0.374</td> <td>    9.919</td> <td> 0.000</td> <td>    2.970</td> <td>    4.457</td>\n",
       "</tr>\n",
       "<tr>\n",
       "  <th>C(route)[T.2]</th>     <td>   -0.1853</td> <td>    0.358</td> <td>   -0.518</td> <td> 0.606</td> <td>   -0.897</td> <td>    0.526</td>\n",
       "</tr>\n",
       "<tr>\n",
       "  <th>C(route)[T.3]</th>     <td>   -0.7313</td> <td>    0.353</td> <td>   -2.073</td> <td> 0.041</td> <td>   -1.432</td> <td>   -0.030</td>\n",
       "</tr>\n",
       "<tr>\n",
       "  <th>C(route)[T.4]</th>     <td>   -0.1255</td> <td>    0.356</td> <td>   -0.353</td> <td> 0.725</td> <td>   -0.833</td> <td>    0.582</td>\n",
       "</tr>\n",
       "<tr>\n",
       "  <th>C(condition)[T.B]</th> <td>    0.2472</td> <td>    0.352</td> <td>    0.703</td> <td> 0.484</td> <td>   -0.451</td> <td>    0.946</td>\n",
       "</tr>\n",
       "<tr>\n",
       "  <th>C(condition)[T.C]</th> <td>    0.0630</td> <td>    0.354</td> <td>    0.178</td> <td> 0.859</td> <td>   -0.640</td> <td>    0.766</td>\n",
       "</tr>\n",
       "<tr>\n",
       "  <th>C(condition)[T.D]</th> <td>   -0.7413</td> <td>    0.358</td> <td>   -2.070</td> <td> 0.041</td> <td>   -1.453</td> <td>   -0.030</td>\n",
       "</tr>\n",
       "<tr>\n",
       "  <th>C(order)[T.2]</th>     <td>   -0.4133</td> <td>    0.351</td> <td>   -1.177</td> <td> 0.242</td> <td>   -1.111</td> <td>    0.284</td>\n",
       "</tr>\n",
       "<tr>\n",
       "  <th>C(order)[T.3]</th>     <td>   -0.6029</td> <td>    0.351</td> <td>   -1.718</td> <td> 0.089</td> <td>   -1.300</td> <td>    0.094</td>\n",
       "</tr>\n",
       "<tr>\n",
       "  <th>C(order)[T.4]</th>     <td>   -0.8449</td> <td>    0.351</td> <td>   -2.406</td> <td> 0.018</td> <td>   -1.542</td> <td>   -0.147</td>\n",
       "</tr>\n",
       "</table>\n",
       "<table class=\"simpletable\">\n",
       "<tr>\n",
       "  <th>Omnibus:</th>       <td> 8.071</td> <th>  Durbin-Watson:     </th> <td>   1.571</td>\n",
       "</tr>\n",
       "<tr>\n",
       "  <th>Prob(Omnibus):</th> <td> 0.018</td> <th>  Jarque-Bera (JB):  </th> <td>   3.195</td>\n",
       "</tr>\n",
       "<tr>\n",
       "  <th>Skew:</th>          <td> 0.040</td> <th>  Prob(JB):          </th> <td>   0.202</td>\n",
       "</tr>\n",
       "<tr>\n",
       "  <th>Kurtosis:</th>      <td> 2.128</td> <th>  Cond. No.          </th> <td>    6.04</td>\n",
       "</tr>\n",
       "</table><br/><br/>Warnings:<br/>[1] Standard Errors assume that the covariance matrix of the errors is correctly specified."
      ],
      "text/plain": [
       "<class 'statsmodels.iolib.summary.Summary'>\n",
       "\"\"\"\n",
       "                            OLS Regression Results                            \n",
       "==============================================================================\n",
       "Dep. Variable:             difficulty   R-squared:                       0.180\n",
       "Model:                            OLS   Adj. R-squared:                  0.098\n",
       "Method:                 Least Squares   F-statistic:                     2.194\n",
       "Date:                Fri, 29 May 2020   Prob (F-statistic):             0.0296\n",
       "Time:                        13:10:43   Log-Likelihood:                -158.08\n",
       "No. Observations:                 100   AIC:                             336.2\n",
       "Df Residuals:                      90   BIC:                             362.2\n",
       "Df Model:                           9                                         \n",
       "Covariance Type:            nonrobust                                         \n",
       "=====================================================================================\n",
       "                        coef    std err          t      P>|t|      [0.025      0.975]\n",
       "-------------------------------------------------------------------------------------\n",
       "Intercept             3.7136      0.374      9.919      0.000       2.970       4.457\n",
       "C(route)[T.2]        -0.1853      0.358     -0.518      0.606      -0.897       0.526\n",
       "C(route)[T.3]        -0.7313      0.353     -2.073      0.041      -1.432      -0.030\n",
       "C(route)[T.4]        -0.1255      0.356     -0.353      0.725      -0.833       0.582\n",
       "C(condition)[T.B]     0.2472      0.352      0.703      0.484      -0.451       0.946\n",
       "C(condition)[T.C]     0.0630      0.354      0.178      0.859      -0.640       0.766\n",
       "C(condition)[T.D]    -0.7413      0.358     -2.070      0.041      -1.453      -0.030\n",
       "C(order)[T.2]        -0.4133      0.351     -1.177      0.242      -1.111       0.284\n",
       "C(order)[T.3]        -0.6029      0.351     -1.718      0.089      -1.300       0.094\n",
       "C(order)[T.4]        -0.8449      0.351     -2.406      0.018      -1.542      -0.147\n",
       "==============================================================================\n",
       "Omnibus:                        8.071   Durbin-Watson:                   1.571\n",
       "Prob(Omnibus):                  0.018   Jarque-Bera (JB):                3.195\n",
       "Skew:                           0.040   Prob(JB):                        0.202\n",
       "Kurtosis:                       2.128   Cond. No.                         6.04\n",
       "==============================================================================\n",
       "\n",
       "Warnings:\n",
       "[1] Standard Errors assume that the covariance matrix of the errors is correctly specified.\n",
       "\"\"\""
      ]
     },
     "execution_count": 7,
     "metadata": {},
     "output_type": "execute_result"
    }
   ],
   "source": [
    "lm = ols('difficulty ~ C(route)+C(condition)+C(order)',data=df).fit()\n",
    "table = sm.stats.anova_lm(lm)\n",
    "print(table)\n",
    "lm.summary()"
   ]
  },
  {
   "cell_type": "code",
   "execution_count": 38,
   "metadata": {
    "scrolled": true
   },
   "outputs": [
    {
     "name": "stdout",
     "output_type": "stream",
     "text": [
      "                df        sum_sq       mean_sq         F    PR(>F)\n",
      "C(route)       3.0  4.805594e+04  16018.645621  0.996075  0.398475\n",
      "C(condition)   3.0  1.791193e+05  59706.427788  3.712677  0.014370\n",
      "C(order)       3.0  3.236927e+04  10789.755021  0.670931  0.572074\n",
      "Residual      90.0  1.447360e+06  16081.773386       NaN       NaN\n"
     ]
    }
   ],
   "source": [
    "lm = ols('distanceDiff~ C(route)+C(condition)+C(order)',data=df).fit()\n",
    "table = sm.stats.anova_lm(lm)\n",
    "print(table)"
   ]
  },
  {
   "cell_type": "code",
   "execution_count": 39,
   "metadata": {
    "scrolled": true
   },
   "outputs": [
    {
     "name": "stdout",
     "output_type": "stream",
     "text": [
      "                df        sum_sq        mean_sq         F    PR(>F)\n",
      "C(route)       3.0  3.777171e+04   12590.570000  0.207018  0.891299\n",
      "C(condition)   3.0  3.756070e+05  125202.346970  2.058620  0.111317\n",
      "C(order)       3.0  1.296370e+05   43212.322429  0.710512  0.548217\n",
      "Residual      90.0  5.473672e+06   60818.582131       NaN       NaN\n"
     ]
    }
   ],
   "source": [
    "lm = ols('distanceMoved ~ C(route)+C(condition)+C(order)',data=df).fit()\n",
    "table = sm.stats.anova_lm(lm)\n",
    "print(table)"
   ]
  },
  {
   "cell_type": "code",
   "execution_count": 40,
   "metadata": {},
   "outputs": [
    {
     "name": "stdout",
     "output_type": "stream",
     "text": [
      "                df        sum_sq      mean_sq         F    PR(>F)\n",
      "C(route)       3.0   4794.906518  1598.302173  3.451984  0.019831\n",
      "C(condition)   3.0   1798.575634   599.525211  1.294844  0.281108\n",
      "C(order)       3.0   4275.316110  1425.105370  3.077917  0.031519\n",
      "Residual      90.0  41670.869967   463.009666       NaN       NaN\n"
     ]
    }
   ],
   "source": [
    "lm = ols('angleDiff ~ C(route)+C(condition)+C(order)',data=df).fit()\n",
    "table = sm.stats.anova_lm(lm)\n",
    "print(table)"
   ]
  },
  {
   "cell_type": "code",
   "execution_count": 41,
   "metadata": {},
   "outputs": [
    {
     "name": "stdout",
     "output_type": "stream",
     "text": [
      "                df         sum_sq      mean_sq         F    PR(>F)\n",
      "C(route)       3.0    2757.320000   919.106667  0.399836  0.753444\n",
      "C(condition)   3.0   15055.057482  5018.352494  2.183119  0.095485\n",
      "C(order)       3.0    8998.895754  2999.631918  1.304921  0.277767\n",
      "Residual      90.0  206883.726764  2298.708075       NaN       NaN\n"
     ]
    }
   ],
   "source": [
    "lm = ols('taskTime ~ C(route)+C(condition)+C(order)',data=df).fit()\n",
    "table = sm.stats.anova_lm(lm)\n",
    "print(table)\n"
   ]
  },
  {
   "cell_type": "code",
   "execution_count": 42,
   "metadata": {
    "scrolled": true
   },
   "outputs": [
    {
     "name": "stdout",
     "output_type": "stream",
     "text": [
      "                df      sum_sq    mean_sq         F    PR(>F)\n",
      "C(route)       3.0   21.000000   7.000000  0.861264  0.464288\n",
      "C(condition)   3.0   55.927180  18.642393  2.293718  0.083296\n",
      "C(order)       3.0   82.589994  27.529998  3.387229  0.021486\n",
      "Residual      90.0  731.482826   8.127587       NaN       NaN\n"
     ]
    }
   ],
   "source": [
    "lm = ols('pickUpNumber ~ C(route)+C(condition)+C(order)',data=df).fit()\n",
    "table = sm.stats.anova_lm(lm)\n",
    "print(table)\n"
   ]
  },
  {
   "cell_type": "code",
   "execution_count": 43,
   "metadata": {
    "scrolled": true
   },
   "outputs": [
    {
     "name": "stdout",
     "output_type": "stream",
     "text": [
      "                df       sum_sq     mean_sq         F    PR(>F)\n",
      "C(route)       3.0   393.653964  131.217988  2.184855  0.095281\n",
      "C(condition)   3.0   501.671847  167.223949  2.784375  0.045360\n",
      "C(order)       3.0   689.197484  229.732495  3.825178  0.012508\n",
      "Residual      90.0  5405.219261   60.057992       NaN       NaN\n"
     ]
    }
   ],
   "source": [
    "lm = ols('phoneActiveTime ~ C(route)+C(condition)+C(order)',data=df).fit()\n",
    "table = sm.stats.anova_lm(lm)\n",
    "print(table)\n",
    "\n"
   ]
  },
  {
   "cell_type": "markdown",
   "metadata": {},
   "source": [
    "## Low"
   ]
  },
  {
   "cell_type": "code",
   "execution_count": 25,
   "metadata": {
    "scrolled": false
   },
   "outputs": [
    {
     "name": "stdout",
     "output_type": "stream",
     "text": [
      "                df         sum_sq       mean_sq         F    PR(>F)\n",
      "C(route)       3.0   73302.213512  24434.071171  0.868334  0.472342\n",
      "C(condition)   3.0   17153.146859   5717.715620  0.203195  0.893065\n",
      "C(order)       3.0   13938.637040   4646.212347  0.165116  0.918724\n",
      "Residual      22.0  619058.678879  28139.030858       NaN       NaN\n"
     ]
    }
   ],
   "source": [
    "lm = ols('distanceDiff~ C(route)+C(condition)+C(order)',data=low).fit()\n",
    "table = sm.stats.anova_lm(lm)\n",
    "print(table)"
   ]
  },
  {
   "cell_type": "code",
   "execution_count": 26,
   "metadata": {
    "scrolled": true
   },
   "outputs": [
    {
     "name": "stdout",
     "output_type": "stream",
     "text": [
      "                df         sum_sq       mean_sq         F    PR(>F)\n",
      "C(route)       3.0  152145.343750  50715.114583  3.454162  0.033950\n",
      "C(condition)   3.0   52797.559049  17599.186350  1.198665  0.333428\n",
      "C(order)       3.0  135599.249477  45199.749826  3.078515  0.048597\n",
      "Residual      22.0  323011.066474  14682.321203       NaN       NaN\n"
     ]
    }
   ],
   "source": [
    "lm = ols('distanceMoved ~ C(route)+C(condition)+C(order)',data=low).fit()\n",
    "table = sm.stats.anova_lm(lm)\n",
    "print(table)"
   ]
  },
  {
   "cell_type": "code",
   "execution_count": 27,
   "metadata": {},
   "outputs": [
    {
     "name": "stdout",
     "output_type": "stream",
     "text": [
      "                df        sum_sq      mean_sq         F    PR(>F)\n",
      "C(route)       3.0   6186.626086  2062.208695  2.432177  0.092118\n",
      "C(condition)   3.0   1134.913836   378.304612  0.446174  0.722443\n",
      "C(order)       3.0   2505.088013   835.029338  0.984837  0.418024\n",
      "Residual      22.0  18653.492640   847.886029       NaN       NaN\n"
     ]
    }
   ],
   "source": [
    "lm = ols('angleDiff ~ C(route)+C(condition)+C(order)',data=low).fit()\n",
    "table = sm.stats.anova_lm(lm)\n",
    "print(table)"
   ]
  },
  {
   "cell_type": "code",
   "execution_count": 28,
   "metadata": {},
   "outputs": [
    {
     "name": "stdout",
     "output_type": "stream",
     "text": [
      "                df        sum_sq      mean_sq         F    PR(>F)\n",
      "C(route)       3.0   2711.343750   903.781250  1.273052  0.308132\n",
      "C(condition)   3.0   1220.295794   406.765265  0.572963  0.638775\n",
      "C(order)       3.0   6860.059744  2286.686581  3.220991  0.042368\n",
      "Residual      22.0  15618.519462   709.932703       NaN       NaN\n"
     ]
    }
   ],
   "source": [
    "lm = ols('taskTime ~ C(route)+C(condition)+C(order)',data=low).fit()\n",
    "table = sm.stats.anova_lm(lm)\n",
    "print(table)\n"
   ]
  },
  {
   "cell_type": "code",
   "execution_count": 29,
   "metadata": {
    "scrolled": true
   },
   "outputs": [
    {
     "name": "stdout",
     "output_type": "stream",
     "text": [
      "                df      sum_sq    mean_sq         F    PR(>F)\n",
      "C(route)       3.0    3.343750   1.114583  0.083163  0.968503\n",
      "C(condition)   3.0   14.163051   4.721017  0.352250  0.787926\n",
      "C(order)       3.0   31.857641  10.619214  0.792333  0.511170\n",
      "Residual      22.0  294.854308  13.402469       NaN       NaN\n"
     ]
    }
   ],
   "source": [
    "lm = ols('pickUpNumber ~ C(route)+C(condition)+C(order)',data=low).fit()\n",
    "table = sm.stats.anova_lm(lm)\n",
    "print(table)\n"
   ]
  },
  {
   "cell_type": "code",
   "execution_count": 30,
   "metadata": {
    "scrolled": true
   },
   "outputs": [
    {
     "name": "stdout",
     "output_type": "stream",
     "text": [
      "                df       sum_sq    mean_sq         F    PR(>F)\n",
      "C(route)       3.0    99.768495  33.256165  0.399582  0.754648\n",
      "C(condition)   3.0    38.702887  12.900962  0.155009  0.925339\n",
      "C(order)       3.0   231.785184  77.261728  0.928321  0.443605\n",
      "Residual      22.0  1831.002077  83.227367       NaN       NaN\n"
     ]
    }
   ],
   "source": [
    "lm = ols('phoneActiveTime ~ C(route)+C(condition)+C(order)',data=low).fit()\n",
    "table = sm.stats.anova_lm(lm)\n",
    "print(table)\n",
    "\n"
   ]
  },
  {
   "cell_type": "markdown",
   "metadata": {},
   "source": [
    "## High"
   ]
  },
  {
   "cell_type": "code",
   "execution_count": 31,
   "metadata": {
    "scrolled": false
   },
   "outputs": [
    {
     "name": "stdout",
     "output_type": "stream",
     "text": [
      "                df         sum_sq       mean_sq         F    PR(>F)\n",
      "C(route)       3.0   73302.213512  24434.071171  0.868334  0.472342\n",
      "C(condition)   3.0   17153.146859   5717.715620  0.203195  0.893065\n",
      "C(order)       3.0   13938.637040   4646.212347  0.165116  0.918724\n",
      "Residual      22.0  619058.678879  28139.030858       NaN       NaN\n"
     ]
    }
   ],
   "source": [
    "lm = ols('distanceDiff~ C(route)+C(condition)+C(order)',data=high).fit()\n",
    "table = sm.stats.anova_lm(lm)\n",
    "print(table)"
   ]
  },
  {
   "cell_type": "code",
   "execution_count": 21,
   "metadata": {
    "scrolled": true
   },
   "outputs": [
    {
     "name": "stdout",
     "output_type": "stream",
     "text": [
      "                df         sum_sq       mean_sq         F    PR(>F)\n",
      "C(route)       3.0  162961.285714  54320.428571  3.405730  0.040140\n",
      "C(condition)   3.0   69006.571429  23002.190476  1.442169  0.263567\n",
      "C(order)       3.0  127455.997355  42485.332452  2.663705  0.079011\n",
      "Residual      18.0  287094.859788  15949.714433       NaN       NaN\n"
     ]
    }
   ],
   "source": [
    "lm = ols('distanceMoved ~ C(route)+C(condition)+C(order)',data=high).fit()\n",
    "table = sm.stats.anova_lm(lm)\n",
    "print(table)"
   ]
  },
  {
   "cell_type": "code",
   "execution_count": 22,
   "metadata": {},
   "outputs": [
    {
     "name": "stdout",
     "output_type": "stream",
     "text": [
      "                df        sum_sq      mean_sq         F    PR(>F)\n",
      "C(route)       3.0   5960.273333  1986.757778  2.066828  0.140502\n",
      "C(condition)   3.0   1392.739368   464.246456  0.482956  0.698262\n",
      "C(order)       3.0   2765.906324   921.968775  0.959126  0.433328\n",
      "Residual      18.0  17302.670503   961.259472       NaN       NaN\n"
     ]
    }
   ],
   "source": [
    "lm = ols('angleDiff ~ C(route)+C(condition)+C(order)',data=high).fit()\n",
    "table = sm.stats.anova_lm(lm)\n",
    "print(table)"
   ]
  },
  {
   "cell_type": "code",
   "execution_count": 23,
   "metadata": {},
   "outputs": [
    {
     "name": "stdout",
     "output_type": "stream",
     "text": [
      "                df        sum_sq      mean_sq         F    PR(>F)\n",
      "C(route)       3.0   3077.857143  1025.952381  1.322405  0.298043\n",
      "C(condition)   3.0   2170.982540   723.660847  0.932765  0.445222\n",
      "C(order)       3.0   5369.060427  1789.686809  2.306824  0.111109\n",
      "Residual      18.0  13964.814176   775.823010       NaN       NaN\n"
     ]
    }
   ],
   "source": [
    "lm = ols('taskTime ~ C(route)+C(condition)+C(order)',data=high).fit()\n",
    "table = sm.stats.anova_lm(lm)\n",
    "print(table)\n"
   ]
  },
  {
   "cell_type": "code",
   "execution_count": 24,
   "metadata": {
    "scrolled": true
   },
   "outputs": [
    {
     "name": "stdout",
     "output_type": "stream",
     "text": [
      "                df      sum_sq    mean_sq         F    PR(>F)\n",
      "C(route)       3.0    3.571429   1.190476  0.073729  0.973320\n",
      "C(condition)   3.0   22.901587   7.633862  0.472782  0.705050\n",
      "C(order)       3.0   21.600748   7.200249  0.445927  0.723152\n",
      "Residual      18.0  290.640522  16.146696       NaN       NaN\n"
     ]
    }
   ],
   "source": [
    "lm = ols('pickUpNumber ~ C(route)+C(condition)+C(order)',data=high).fit()\n",
    "table = sm.stats.anova_lm(lm)\n",
    "print(table)\n"
   ]
  },
  {
   "cell_type": "code",
   "execution_count": 44,
   "metadata": {
    "scrolled": true
   },
   "outputs": [
    {
     "name": "stdout",
     "output_type": "stream",
     "text": [
      "                df       sum_sq    mean_sq         F    PR(>F)\n",
      "C(route)       3.0    99.768495  33.256165  0.399582  0.754648\n",
      "C(condition)   3.0    38.702887  12.900962  0.155009  0.925339\n",
      "C(order)       3.0   231.785184  77.261728  0.928321  0.443605\n",
      "Residual      22.0  1831.002077  83.227367       NaN       NaN\n"
     ]
    }
   ],
   "source": [
    "lm = ols('phoneActiveTime ~ C(route)+C(condition)+C(order)',data=high).fit()\n",
    "table = sm.stats.anova_lm(lm)\n",
    "print(table)\n",
    "\n"
   ]
  }
 ],
 "metadata": {
  "kernelspec": {
   "display_name": "Python 3",
   "language": "python",
   "name": "python3"
  },
  "language_info": {
   "codemirror_mode": {
    "name": "ipython",
    "version": 3
   },
   "file_extension": ".py",
   "mimetype": "text/x-python",
   "name": "python",
   "nbconvert_exporter": "python",
   "pygments_lexer": "ipython3",
   "version": "3.6.8"
  }
 },
 "nbformat": 4,
 "nbformat_minor": 2
}
